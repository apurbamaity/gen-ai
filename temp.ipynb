{
 "cells": [
  {
   "cell_type": "markdown",
   "id": "95772693",
   "metadata": {},
   "source": [
    "## Simple runnables"
   ]
  },
  {
   "cell_type": "code",
   "execution_count": null,
   "id": "bdec71e8",
   "metadata": {
    "vscode": {
     "languageId": "plaintext"
    }
   },
   "outputs": [],
   "source": [
    "llm = ChatOllama(\n",
    "    model=\"gemma3:270m\",\n",
    "    temperature=0,\n",
    "    # other params...\n",
    ")"
   ]
  },
  {
   "cell_type": "code",
   "execution_count": null,
   "id": "8b2a508e",
   "metadata": {
    "vscode": {
     "languageId": "plaintext"
    }
   },
   "outputs": [],
   "source": [
    "messages = [\n",
    "        (\n",
    "            \"system\",\n",
    "            \"You are a helpful assistant that translates English to French. Translate the user sentence.\",\n",
    "        ),\n",
    "        (\"human\", \"convert 'I love programming.' into french\"),\n",
    "    ]\n",
    "    ai_msg = llm.invoke(messages)\n",
    "    print(ai_msg)"
   ]
  },
  {
   "cell_type": "code",
   "execution_count": null,
   "id": "2f2291f1",
   "metadata": {
    "vscode": {
     "languageId": "plaintext"
    }
   },
   "outputs": [],
   "source": [
    "summary_template = \"\"\"\n",
    "    given the number  {a}, and {b} generate the sum of a + b.\n",
    "\t\"\"\"\n",
    "\n",
    "summary_template = \"\"\"\n",
    "    given the information  {information}, give me a summary of the information.\n",
    "\t\"\"\""
   ]
  },
  {
   "cell_type": "code",
   "execution_count": null,
   "id": "dfed69c7",
   "metadata": {
    "vscode": {
     "languageId": "plaintext"
    }
   },
   "outputs": [],
   "source": [
    "prompt = PromptTemplate(input_variables = ['information'], template=summary_template)\n",
    "chain = prompt | llm\n",
    "response = chain.invoke({\"information\": elon_musk_info})\n",
    "print(response)"
   ]
  },
  {
   "cell_type": "markdown",
   "id": "edc7e46d",
   "metadata": {},
   "source": [
    "## chain"
   ]
  },
  {
   "cell_type": "markdown",
   "id": "b19e79a6",
   "metadata": {},
   "source": []
  }
 ],
 "metadata": {
  "language_info": {
   "name": "python"
  }
 },
 "nbformat": 4,
 "nbformat_minor": 5
}
